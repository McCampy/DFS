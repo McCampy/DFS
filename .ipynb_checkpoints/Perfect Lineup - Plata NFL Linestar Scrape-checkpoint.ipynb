{
 "cells": [
  {
   "cell_type": "code",
   "execution_count": 1,
   "metadata": {
    "collapsed": true
   },
   "outputs": [],
   "source": [
    "# Data Scraping Initialization\n",
    "from bs4 import BeautifulSoup as bs\n",
    "import requests\n",
    "import time\n",
    "\n",
    "import numpy as np\n",
    "import pandas as pd\n",
    "from pandas import DataFrame\n"
   ]
  },
  {
   "cell_type": "code",
   "execution_count": 2,
   "metadata": {
    "collapsed": true
   },
   "outputs": [],
   "source": [
    "# Get html text from a url\n",
    "\n",
    "#=========================================================================================#\n",
    "\n",
    "## Update URL here each week ##\n",
    "\n",
    "url_text = requests.get('https://www.linestarapp.com/Perfect/Sport/NFL/Site/FanDuel/PID/262').text\n",
    "\n",
    "#=========================================================================================#\n",
    "\n",
    "\n",
    "# *line star has a crawl delay of 5 seconds*\n",
    "\n",
    "#put into beautiful soup\n",
    "soup = bs(url_text,'lxml')"
   ]
  },
  {
   "cell_type": "code",
   "execution_count": 18,
   "metadata": {},
   "outputs": [],
   "source": [
    "table = soup.find('tbody')\n",
    "table_list = table.find_all('tr')\n",
    "#print(table_list)\n",
    "#print()\n",
    "#print(len(table_list))"
   ]
  },
  {
   "cell_type": "code",
   "execution_count": 6,
   "metadata": {
    "collapsed": true
   },
   "outputs": [],
   "source": [
    "#row 0\n",
    "\n",
    "r0 = [table_list[0].find_all('td')[0].text,\n",
    "table_list[0].find_all('td')[1].text,\n",
    "table_list[0].find_all('td')[2].text,\n",
    "table_list[0].find_all('td')[3].text,\n",
    "table_list[0].find_all('td')[4].text.strip('\\n')]   "
   ]
  },
  {
   "cell_type": "code",
   "execution_count": 7,
   "metadata": {
    "collapsed": true
   },
   "outputs": [],
   "source": [
    "#row 1\n",
    "\n",
    "r1 = [table_list[1].find_all('td')[0].text,\n",
    "table_list[1].find_all('td')[1].text,\n",
    "table_list[1].find_all('td')[2].text,\n",
    "table_list[1].find_all('td')[3].text,\n",
    "table_list[1].find_all('td')[4].text.strip('\\n')]"
   ]
  },
  {
   "cell_type": "code",
   "execution_count": 8,
   "metadata": {
    "collapsed": true
   },
   "outputs": [],
   "source": [
    "#row 3\n",
    "\n",
    "r2 = [table_list[2].find_all('td')[0].text,\n",
    "table_list[2].find_all('td')[1].text,\n",
    "table_list[2].find_all('td')[2].text,\n",
    "table_list[2].find_all('td')[3].text,\n",
    "table_list[2].find_all('td')[4].text.strip('\\n')] "
   ]
  },
  {
   "cell_type": "code",
   "execution_count": 9,
   "metadata": {
    "collapsed": true
   },
   "outputs": [],
   "source": [
    "#row 4\n",
    "\n",
    "r3 = [table_list[3].find_all('td')[0].text,\n",
    "table_list[3].find_all('td')[1].text,\n",
    "table_list[3].find_all('td')[2].text,\n",
    "table_list[3].find_all('td')[3].text,\n",
    "table_list[3].find_all('td')[4].text.strip('\\n')]  "
   ]
  },
  {
   "cell_type": "code",
   "execution_count": 11,
   "metadata": {},
   "outputs": [
    {
     "name": "stdout",
     "output_type": "stream",
     "text": [
      "['WR', 'TEN', 'Corey Davis', '$6100', '29.7']\n"
     ]
    },
    {
     "data": {
      "text/plain": [
       "list"
      ]
     },
     "execution_count": 11,
     "metadata": {},
     "output_type": "execute_result"
    }
   ],
   "source": [
    "#row 5\n",
    "\n",
    "r4 = [table_list[4].find_all('td')[0].text,\n",
    "table_list[4].find_all('td')[1].text,\n",
    "table_list[4].find_all('td')[2].text,\n",
    "table_list[4].find_all('td')[3].text,\n",
    "table_list[4].find_all('td')[4].text.strip('\\n')]"
   ]
  },
  {
   "cell_type": "code",
   "execution_count": 12,
   "metadata": {
    "collapsed": true
   },
   "outputs": [],
   "source": [
    "#row 5\n",
    "\n",
    "r5 = [table_list[5].find_all('td')[0].text,\n",
    "table_list[5].find_all('td')[1].text,\n",
    "table_list[5].find_all('td')[2].text,\n",
    "table_list[5].find_all('td')[3].text,\n",
    "table_list[5].find_all('td')[4].text.strip('\\n')]"
   ]
  },
  {
   "cell_type": "code",
   "execution_count": 13,
   "metadata": {
    "collapsed": true
   },
   "outputs": [],
   "source": [
    "#row 6\n",
    "\n",
    "r6 = [table_list[6].find_all('td')[0].text,\n",
    "table_list[6].find_all('td')[1].text,\n",
    "table_list[6].find_all('td')[2].text,\n",
    "table_list[6].find_all('td')[3].text,\n",
    "table_list[6].find_all('td')[4].text.strip('\\n')]"
   ]
  },
  {
   "cell_type": "code",
   "execution_count": 14,
   "metadata": {
    "collapsed": true
   },
   "outputs": [],
   "source": [
    "#row 7\n",
    "\n",
    "r7 = [table_list[7].find_all('td')[0].text,\n",
    "table_list[7].find_all('td')[1].text,\n",
    "table_list[7].find_all('td')[2].text,\n",
    "table_list[7].find_all('td')[3].text,\n",
    "table_list[7].find_all('td')[4].text.strip('\\n')]"
   ]
  },
  {
   "cell_type": "code",
   "execution_count": 15,
   "metadata": {
    "collapsed": true
   },
   "outputs": [],
   "source": [
    "#row 8\n",
    "\n",
    "r8 = [table_list[8].find_all('td')[0].text,\n",
    "table_list[8].find_all('td')[1].text,\n",
    "table_list[8].find_all('td')[2].text,\n",
    "table_list[8].find_all('td')[3].text,\n",
    "table_list[8].find_all('td')[4].text.strip('\\n')]"
   ]
  },
  {
   "cell_type": "code",
   "execution_count": 16,
   "metadata": {
    "collapsed": true
   },
   "outputs": [],
   "source": [
    "# consolidate\n",
    "r = [r0, r1, r2, r3, r4, r5, r6, r7, r8]"
   ]
  },
  {
   "cell_type": "code",
   "execution_count": 17,
   "metadata": {},
   "outputs": [
    {
     "data": {
      "text/html": [
       "<div>\n",
       "<style scoped>\n",
       "    .dataframe tbody tr th:only-of-type {\n",
       "        vertical-align: middle;\n",
       "    }\n",
       "\n",
       "    .dataframe tbody tr th {\n",
       "        vertical-align: top;\n",
       "    }\n",
       "\n",
       "    .dataframe thead th {\n",
       "        text-align: right;\n",
       "    }\n",
       "</style>\n",
       "<table border=\"1\" class=\"dataframe\">\n",
       "  <thead>\n",
       "    <tr style=\"text-align: right;\">\n",
       "      <th></th>\n",
       "      <th>Position</th>\n",
       "      <th>Team</th>\n",
       "      <th>Player Name</th>\n",
       "      <th>Salary</th>\n",
       "      <th>Points Scored</th>\n",
       "    </tr>\n",
       "  </thead>\n",
       "  <tbody>\n",
       "    <tr>\n",
       "      <th>0</th>\n",
       "      <td>QB</td>\n",
       "      <td>LV</td>\n",
       "      <td>Derek Carr</td>\n",
       "      <td>$7200</td>\n",
       "      <td>32.74</td>\n",
       "    </tr>\n",
       "    <tr>\n",
       "      <th>1</th>\n",
       "      <td>RB</td>\n",
       "      <td>IND</td>\n",
       "      <td>Jonathan Taylor</td>\n",
       "      <td>$6400</td>\n",
       "      <td>21</td>\n",
       "    </tr>\n",
       "    <tr>\n",
       "      <th>2</th>\n",
       "      <td>RB</td>\n",
       "      <td>CHI</td>\n",
       "      <td>David Montgomery</td>\n",
       "      <td>$6200</td>\n",
       "      <td>25.1</td>\n",
       "    </tr>\n",
       "    <tr>\n",
       "      <th>3</th>\n",
       "      <td>WR</td>\n",
       "      <td>MIN</td>\n",
       "      <td>Justin Jefferson</td>\n",
       "      <td>$7700</td>\n",
       "      <td>22.8</td>\n",
       "    </tr>\n",
       "    <tr>\n",
       "      <th>4</th>\n",
       "      <td>WR</td>\n",
       "      <td>TEN</td>\n",
       "      <td>Corey Davis</td>\n",
       "      <td>$6100</td>\n",
       "      <td>29.7</td>\n",
       "    </tr>\n",
       "    <tr>\n",
       "      <th>5</th>\n",
       "      <td>WR</td>\n",
       "      <td>DET</td>\n",
       "      <td>Marvin Jones Jr.</td>\n",
       "      <td>$6000</td>\n",
       "      <td>21.6</td>\n",
       "    </tr>\n",
       "    <tr>\n",
       "      <th>6</th>\n",
       "      <td>TE</td>\n",
       "      <td>LV</td>\n",
       "      <td>Darren Waller</td>\n",
       "      <td>$7000</td>\n",
       "      <td>38.5</td>\n",
       "    </tr>\n",
       "    <tr>\n",
       "      <th>7</th>\n",
       "      <td>FLEX</td>\n",
       "      <td>GB</td>\n",
       "      <td>Davante Adams</td>\n",
       "      <td>$9500</td>\n",
       "      <td>29.1</td>\n",
       "    </tr>\n",
       "    <tr>\n",
       "      <th>8</th>\n",
       "      <td>DEF</td>\n",
       "      <td>NE</td>\n",
       "      <td>New England Patriots</td>\n",
       "      <td>$3700</td>\n",
       "      <td>31</td>\n",
       "    </tr>\n",
       "  </tbody>\n",
       "</table>\n",
       "</div>"
      ],
      "text/plain": [
       "  Position Team           Player Name Salary Points Scored\n",
       "0       QB   LV            Derek Carr  $7200         32.74\n",
       "1       RB  IND       Jonathan Taylor  $6400            21\n",
       "2       RB  CHI      David Montgomery  $6200          25.1\n",
       "3       WR  MIN      Justin Jefferson  $7700          22.8\n",
       "4       WR  TEN           Corey Davis  $6100          29.7\n",
       "5       WR  DET      Marvin Jones Jr.  $6000          21.6\n",
       "6       TE   LV         Darren Waller  $7000          38.5\n",
       "7     FLEX   GB         Davante Adams  $9500          29.1\n",
       "8      DEF   NE  New England Patriots  $3700            31"
      ]
     },
     "metadata": {},
     "output_type": "display_data"
    }
   ],
   "source": [
    "# make dataframe\n",
    "df_perfect = DataFrame(r, columns=['Position', 'Team', 'Player Name', 'Salary', 'Points Scored'],dtype = 'string') \n",
    "display(df_perfect)"
   ]
  },
  {
   "cell_type": "code",
   "execution_count": null,
   "metadata": {
    "collapsed": true
   },
   "outputs": [],
   "source": [
    "#12/5/2020\n",
    "#Ran on first try"
   ]
  }
 ],
 "metadata": {
  "kernelspec": {
   "display_name": "Python 3",
   "language": "python",
   "name": "python3"
  },
  "language_info": {
   "codemirror_mode": {
    "name": "ipython",
    "version": 3
   },
   "file_extension": ".py",
   "mimetype": "text/x-python",
   "name": "python",
   "nbconvert_exporter": "python",
   "pygments_lexer": "ipython3",
   "version": "3.6.2"
  }
 },
 "nbformat": 4,
 "nbformat_minor": 2
}
