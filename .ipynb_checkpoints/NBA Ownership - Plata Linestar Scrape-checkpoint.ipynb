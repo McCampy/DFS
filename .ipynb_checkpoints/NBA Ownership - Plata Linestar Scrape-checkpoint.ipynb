{
 "cells": [
  {
   "cell_type": "code",
   "execution_count": 1,
   "metadata": {
    "collapsed": true
   },
   "outputs": [],
   "source": [
    "# Data Scraping Initialization\n",
    "from bs4 import BeautifulSoup as bs\n",
    "import requests\n",
    "import time\n",
    "\n",
    "import numpy as np\n",
    "import pandas as pd\n",
    "from pandas import DataFrame\n"
   ]
  },
  {
   "cell_type": "code",
   "execution_count": 2,
   "metadata": {
    "collapsed": true
   },
   "outputs": [],
   "source": [
    "# Get html text from a url\n",
    "url_text = requests.get('https://www.linestarapp.com/Perfect/Sport/NBA/Site/FanDuel/PID/1354').text\n",
    "# *line star has a crawl delay of 5 seconds*\n",
    "\n",
    "#put into beautiful soup\n",
    "soup = bs(url_text,'lxml')\n",
    "#print(soup)\n",
    "\n"
   ]
  },
  {
   "cell_type": "code",
   "execution_count": 3,
   "metadata": {},
   "outputs": [
    {
     "name": "stdout",
     "output_type": "stream",
     "text": [
      "[<tr>\n",
      "<td>MVP - 2X Points</td>\n",
      "<td>LAL</td>\n",
      "<td class=\"playername\" data-playerid=\"126\">LeBron James</td>\n",
      "<td style=\"color:green;\">$16000</td>\n",
      "<td>\n",
      "<span class=\"tooltips label label-success\" data-toggle=\"tooltip\" title=\"Final\">123.6</span>\n",
      "</td>\n",
      "</tr>, <tr>\n",
      "<td>STAR - 1.5X Points</td>\n",
      "<td>MIA</td>\n",
      "<td class=\"playername\" data-playerid=\"852\">Bam Adebayo</td>\n",
      "<td style=\"color:green;\">$13000</td>\n",
      "<td>\n",
      "<span class=\"tooltips label label-success\" data-toggle=\"tooltip\" title=\"Final\">72.75</span>\n",
      "</td>\n",
      "</tr>, <tr>\n",
      "<td>PRO - 1.2X Points</td>\n",
      "<td>LAL</td>\n",
      "<td class=\"playername\" data-playerid=\"387\">Anthony Davis</td>\n",
      "<td style=\"color:green;\">$15500</td>\n",
      "<td>\n",
      "<span class=\"tooltips label label-success\" data-toggle=\"tooltip\" title=\"Final\">57</span>\n",
      "</td>\n",
      "</tr>, <tr>\n",
      "<td>UTIL</td>\n",
      "<td>MIA</td>\n",
      "<td class=\"playername\" data-playerid=\"11\">Kelly Olynyk</td>\n",
      "<td style=\"color:green;\">$8000</td>\n",
      "<td>\n",
      "<span class=\"tooltips label label-success\" data-toggle=\"tooltip\" title=\"Final\">20.4</span>\n",
      "</td>\n",
      "</tr>, <tr>\n",
      "<td>UTIL</td>\n",
      "<td>LAL</td>\n",
      "<td class=\"playername\" data-playerid=\"789\">Alex Caruso</td>\n",
      "<td style=\"color:green;\">$7500</td>\n",
      "<td>\n",
      "<span class=\"tooltips label label-success\" data-toggle=\"tooltip\" title=\"Final\">20.1</span>\n",
      "</td>\n",
      "</tr>]\n",
      "\n",
      "5\n"
     ]
    }
   ],
   "source": [
    "table = soup.find('tbody')\n",
    "table_list = table.find_all('tr')\n",
    "print(table_list)\n",
    "print()\n",
    "print(len(table_list))"
   ]
  },
  {
   "cell_type": "code",
   "execution_count": 4,
   "metadata": {},
   "outputs": [
    {
     "name": "stdout",
     "output_type": "stream",
     "text": [
      "<td>LAL</td>\n"
     ]
    }
   ],
   "source": [
    "qb = table_list[0].find_all('td')[0]\n",
    "x = qb.find_next()\n",
    "x = qb.find_next()\n",
    "print(x)"
   ]
  },
  {
   "cell_type": "code",
   "execution_count": 5,
   "metadata": {},
   "outputs": [
    {
     "data": {
      "text/plain": [
       "str"
      ]
     },
     "execution_count": 5,
     "metadata": {},
     "output_type": "execute_result"
    }
   ],
   "source": [
    "xx = x.text\n",
    "type(xx)"
   ]
  },
  {
   "cell_type": "code",
   "execution_count": 6,
   "metadata": {
    "collapsed": true
   },
   "outputs": [],
   "source": [
    "#row 0\n",
    "\n",
    "#perfect = np.array((1,5),string)\n",
    "r0 = [table_list[0].find_all('td')[0].text,\n",
    "table_list[0].find_all('td')[1].text,\n",
    "table_list[0].find_all('td')[2].text,\n",
    "table_list[0].find_all('td')[3].text,\n",
    "table_list[0].find_all('td')[4].text.strip('\\n')]   "
   ]
  },
  {
   "cell_type": "code",
   "execution_count": 7,
   "metadata": {
    "collapsed": true
   },
   "outputs": [],
   "source": [
    "#row 1\n",
    "\n",
    "#perfect = np.array((1,5),string)\n",
    "r1 = [table_list[1].find_all('td')[0].text,\n",
    "table_list[1].find_all('td')[1].text,\n",
    "table_list[1].find_all('td')[2].text,\n",
    "table_list[1].find_all('td')[3].text,\n",
    "table_list[1].find_all('td')[4].text.strip('\\n')]"
   ]
  },
  {
   "cell_type": "code",
   "execution_count": 8,
   "metadata": {
    "collapsed": true
   },
   "outputs": [],
   "source": [
    "#row 3\n",
    "\n",
    "#perfect = np.array((1,5),string)\n",
    "r2 = [table_list[2].find_all('td')[0].text,\n",
    "table_list[2].find_all('td')[1].text,\n",
    "table_list[2].find_all('td')[2].text,\n",
    "table_list[2].find_all('td')[3].text,\n",
    "table_list[2].find_all('td')[4].text.strip('\\n')] "
   ]
  },
  {
   "cell_type": "code",
   "execution_count": 9,
   "metadata": {
    "collapsed": true
   },
   "outputs": [],
   "source": [
    "#row 4\n",
    "\n",
    "#perfect = np.array((1,5),string)\n",
    "r3 = [table_list[3].find_all('td')[0].text,\n",
    "table_list[3].find_all('td')[1].text,\n",
    "table_list[3].find_all('td')[2].text,\n",
    "table_list[3].find_all('td')[3].text,\n",
    "table_list[3].find_all('td')[4].text.strip('\\n')]  "
   ]
  },
  {
   "cell_type": "code",
   "execution_count": 11,
   "metadata": {},
   "outputs": [
    {
     "name": "stdout",
     "output_type": "stream",
     "text": [
      "['UTIL', 'LAL', 'Alex Caruso', '$7500', '20.1']\n"
     ]
    },
    {
     "data": {
      "text/plain": [
       "list"
      ]
     },
     "execution_count": 11,
     "metadata": {},
     "output_type": "execute_result"
    }
   ],
   "source": [
    "#row 5\n",
    "\n",
    "#perfect = np.array((1,5),string)\n",
    "r4 = [table_list[4].find_all('td')[0].text,\n",
    "table_list[4].find_all('td')[1].text,\n",
    "table_list[4].find_all('td')[2].text,\n",
    "table_list[4].find_all('td')[3].text,\n",
    "table_list[4].find_all('td')[4].text.strip('\\n')]   "
   ]
  },
  {
   "cell_type": "code",
   "execution_count": 12,
   "metadata": {
    "collapsed": true
   },
   "outputs": [],
   "source": [
    "r = [r0, r1, r2, r3, r4]"
   ]
  },
  {
   "cell_type": "code",
   "execution_count": 14,
   "metadata": {},
   "outputs": [
    {
     "data": {
      "text/html": [
       "<div>\n",
       "<style scoped>\n",
       "    .dataframe tbody tr th:only-of-type {\n",
       "        vertical-align: middle;\n",
       "    }\n",
       "\n",
       "    .dataframe tbody tr th {\n",
       "        vertical-align: top;\n",
       "    }\n",
       "\n",
       "    .dataframe thead th {\n",
       "        text-align: right;\n",
       "    }\n",
       "</style>\n",
       "<table border=\"1\" class=\"dataframe\">\n",
       "  <thead>\n",
       "    <tr style=\"text-align: right;\">\n",
       "      <th></th>\n",
       "      <th>Position</th>\n",
       "      <th>Team</th>\n",
       "      <th>Player Name</th>\n",
       "      <th>Salary</th>\n",
       "      <th>Points</th>\n",
       "    </tr>\n",
       "  </thead>\n",
       "  <tbody>\n",
       "    <tr>\n",
       "      <th>0</th>\n",
       "      <td>MVP - 2X Points</td>\n",
       "      <td>LAL</td>\n",
       "      <td>LeBron James</td>\n",
       "      <td>$16000</td>\n",
       "      <td>123.6</td>\n",
       "    </tr>\n",
       "    <tr>\n",
       "      <th>1</th>\n",
       "      <td>STAR - 1.5X Points</td>\n",
       "      <td>MIA</td>\n",
       "      <td>Bam Adebayo</td>\n",
       "      <td>$13000</td>\n",
       "      <td>72.75</td>\n",
       "    </tr>\n",
       "    <tr>\n",
       "      <th>2</th>\n",
       "      <td>PRO - 1.2X Points</td>\n",
       "      <td>LAL</td>\n",
       "      <td>Anthony Davis</td>\n",
       "      <td>$15500</td>\n",
       "      <td>57</td>\n",
       "    </tr>\n",
       "    <tr>\n",
       "      <th>3</th>\n",
       "      <td>UTIL</td>\n",
       "      <td>MIA</td>\n",
       "      <td>Kelly Olynyk</td>\n",
       "      <td>$8000</td>\n",
       "      <td>20.4</td>\n",
       "    </tr>\n",
       "    <tr>\n",
       "      <th>4</th>\n",
       "      <td>UTIL</td>\n",
       "      <td>LAL</td>\n",
       "      <td>Alex Caruso</td>\n",
       "      <td>$7500</td>\n",
       "      <td>20.1</td>\n",
       "    </tr>\n",
       "  </tbody>\n",
       "</table>\n",
       "</div>"
      ],
      "text/plain": [
       "             Position Team    Player Name  Salary Points\n",
       "0     MVP - 2X Points  LAL   LeBron James  $16000  123.6\n",
       "1  STAR - 1.5X Points  MIA    Bam Adebayo  $13000  72.75\n",
       "2   PRO - 1.2X Points  LAL  Anthony Davis  $15500     57\n",
       "3                UTIL  MIA   Kelly Olynyk   $8000   20.4\n",
       "4                UTIL  LAL    Alex Caruso   $7500   20.1"
      ]
     },
     "metadata": {},
     "output_type": "display_data"
    }
   ],
   "source": [
    "df_perfect = DataFrame(r, columns=['Position', 'Team', 'Player Name', 'Salary', 'Points'],dtype = 'string') \n",
    "display(df_perfect)"
   ]
  },
  {
   "cell_type": "code",
   "execution_count": null,
   "metadata": {
    "collapsed": true
   },
   "outputs": [],
   "source": [
    "#12/7/2020\n",
    "#Ran on first try"
   ]
  }
 ],
 "metadata": {
  "kernelspec": {
   "display_name": "Python 3",
   "language": "python",
   "name": "python3"
  },
  "language_info": {
   "codemirror_mode": {
    "name": "ipython",
    "version": 3
   },
   "file_extension": ".py",
   "mimetype": "text/x-python",
   "name": "python",
   "nbconvert_exporter": "python",
   "pygments_lexer": "ipython3",
   "version": "3.6.2"
  }
 },
 "nbformat": 4,
 "nbformat_minor": 2
}
