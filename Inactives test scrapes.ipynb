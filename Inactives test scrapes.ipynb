{
 "cells": [
  {
   "cell_type": "code",
   "execution_count": 8,
   "metadata": {
    "collapsed": true
   },
   "outputs": [],
   "source": [
    "#Text for adding in inactives\n",
    "import requests  # pip install requests\n",
    "import pandas as pd\n",
    "from bs4 import BeautifulSoup as bs\n",
    "import os\n",
    "import statistics as stat\n",
    "from functools import reduce"
   ]
  },
  {
   "cell_type": "code",
   "execution_count": 9,
   "metadata": {
    "collapsed": true
   },
   "outputs": [],
   "source": [
    "date = '02-12-2021'\n",
    "home_id = 'ATL'\n",
    "away_id = 'SAS'"
   ]
  },
  {
   "cell_type": "code",
   "execution_count": 10,
   "metadata": {},
   "outputs": [],
   "source": [
    "# Sets up url to scrape and gets data for home and away boxscores\n",
    "date_triple = date.split('-')\n",
    "month = date_triple[0]\n",
    "day = date_triple[1]\n",
    "year = date_triple[2]\n",
    "url = 'https://www.basketball-reference.com/boxscores/' + year + month + day + '0' + home_id + '.html'\n",
    "# basic boxscore - away\n",
    "df_away = pd.read_html(url)[0]\n",
    "df_away = pd.concat([df_away['Unnamed: 0_level_0'], df_away['Basic Box Score Stats']], axis=1, sort=False)\n",
    "#advanced boxscore - away\n",
    "df_away_adv = pd.read_html(url)[7]\n",
    "# clean up advanced boxscore - away\n",
    "df_away_adv1 = pd.concat([df_away_adv['Unnamed: 0_level_0'],df_away_adv['Advanced Box Score Stats']], axis=1, sort=False)\n",
    "df_away_adv = df_away_adv1.drop(['Starters','MP'],axis=1)\n",
    "\n",
    "# basic boxscore - home\n",
    "df_home = pd.read_html(url)[8]\n",
    "df_home = pd.concat([df_home['Unnamed: 0_level_0'], df_home['Basic Box Score Stats']], axis=1, sort=False)\n",
    "# advanced boxscore - home\n",
    "df_home_adv = pd.read_html(url)[15]\n",
    "# clean up advanced boxscore - home\n",
    "df_home_adv1 = pd.concat([df_home_adv['Unnamed: 0_level_0'],df_home_adv['Advanced Box Score Stats']], axis=1, sort=False)\n",
    "df_home_adv = df_home_adv1.drop(['Starters','MP'],axis=1)\n",
    "# merge basic and advanced boxscores\n",
    "df_away_all = pd.concat([df_away, df_away_adv], axis=1, sort=False)\n",
    "df_home_all = pd.concat([df_home, df_home_adv], axis=1, sort=False)\n",
    "df_list = [df_away_all, df_home_all]\n",
    "ids = [away_id, home_id]\n"
   ]
  },
  {
   "cell_type": "code",
   "execution_count": 43,
   "metadata": {},
   "outputs": [
    {
     "name": "stdout",
     "output_type": "stream",
     "text": [
      "<label>Name:</label>\n"
     ]
    }
   ],
   "source": [
    "data = \"\"\"\n",
    "<div>\n",
    "    <label>Name:</label>\n",
    "    John Smith\n",
    "</div>\n",
    "\"\"\"\n",
    "\n",
    "soup = bs(data, \"html.parser\")\n",
    "\n",
    "label = soup.find(\"label\", text=\"Name:\")\n",
    "print(label)\n",
    "print(label.next_sibling.strip())\n"
   ]
  },
  {
   "cell_type": "code",
   "execution_count": 61,
   "metadata": {},
   "outputs": [
    {
     "ename": "TypeError",
     "evalue": "expected string or bytes-like object",
     "output_type": "error",
     "traceback": [
      "\u001b[0;31m---------------------------------------------------------------------------\u001b[0m",
      "\u001b[0;31mTypeError\u001b[0m                                 Traceback (most recent call last)",
      "\u001b[0;32m<ipython-input-61-b510c5dc2ace>\u001b[0m in \u001b[0;36m<module>\u001b[0;34m()\u001b[0m\n\u001b[1;32m      5\u001b[0m \u001b[0;31m#print(soup)\u001b[0m\u001b[0;34m\u001b[0m\u001b[0;34m\u001b[0m\u001b[0m\n\u001b[1;32m      6\u001b[0m \u001b[0mtest\u001b[0m \u001b[0;34m=\u001b[0m \u001b[0msoup\u001b[0m\u001b[0;34m.\u001b[0m\u001b[0mfind_all\u001b[0m\u001b[0;34m(\u001b[0m\u001b[0;34m\"strong\"\u001b[0m\u001b[0;34m)\u001b[0m\u001b[0;34m\u001b[0m\u001b[0m\n\u001b[0;32m----> 7\u001b[0;31m \u001b[0msoup\u001b[0m \u001b[0;34m=\u001b[0m \u001b[0mbs\u001b[0m\u001b[0;34m(\u001b[0m\u001b[0mtest\u001b[0m\u001b[0;34m,\u001b[0m\u001b[0;34m'lxml'\u001b[0m\u001b[0;34m)\u001b[0m\u001b[0;34m\u001b[0m\u001b[0m\n\u001b[0m\u001b[1;32m      8\u001b[0m \u001b[0mtest2\u001b[0m \u001b[0;34m=\u001b[0m \u001b[0mtest\u001b[0m\u001b[0;34m.\u001b[0m\u001b[0mfind\u001b[0m\u001b[0;34m(\u001b[0m\u001b[0;34m'strong'\u001b[0m\u001b[0;34m,\u001b[0m \u001b[0mtext\u001b[0m\u001b[0;34m=\u001b[0m\u001b[0;34m'Inactive:'\u001b[0m\u001b[0;34m)\u001b[0m\u001b[0;34m\u001b[0m\u001b[0m\n\u001b[1;32m      9\u001b[0m \u001b[0mprint\u001b[0m\u001b[0;34m(\u001b[0m\u001b[0mtest\u001b[0m\u001b[0;34m)\u001b[0m\u001b[0;34m\u001b[0m\u001b[0m\n",
      "\u001b[0;32m~/anaconda3/lib/python3.6/site-packages/bs4/__init__.py\u001b[0m in \u001b[0;36m__init__\u001b[0;34m(self, markup, features, builder, parse_only, from_encoding, exclude_encodings, **kwargs)\u001b[0m\n\u001b[1;32m    223\u001b[0m          \u001b[0mself\u001b[0m\u001b[0;34m.\u001b[0m\u001b[0mcontains_replacement_characters\u001b[0m\u001b[0;34m)\u001b[0m \u001b[0;32min\u001b[0m \u001b[0;34m(\u001b[0m\u001b[0;34m\u001b[0m\u001b[0m\n\u001b[1;32m    224\u001b[0m              self.builder.prepare_markup(\n\u001b[0;32m--> 225\u001b[0;31m                  markup, from_encoding, exclude_encodings=exclude_encodings)):\n\u001b[0m\u001b[1;32m    226\u001b[0m             \u001b[0mself\u001b[0m\u001b[0;34m.\u001b[0m\u001b[0mreset\u001b[0m\u001b[0;34m(\u001b[0m\u001b[0;34m)\u001b[0m\u001b[0;34m\u001b[0m\u001b[0m\n\u001b[1;32m    227\u001b[0m             \u001b[0;32mtry\u001b[0m\u001b[0;34m:\u001b[0m\u001b[0;34m\u001b[0m\u001b[0m\n",
      "\u001b[0;32m~/anaconda3/lib/python3.6/site-packages/bs4/builder/_lxml.py\u001b[0m in \u001b[0;36mprepare_markup\u001b[0;34m(self, markup, user_specified_encoding, exclude_encodings, document_declared_encoding)\u001b[0m\n\u001b[1;32m    116\u001b[0m         detector = EncodingDetector(\n\u001b[1;32m    117\u001b[0m             markup, try_encodings, is_html, exclude_encodings)\n\u001b[0;32m--> 118\u001b[0;31m         \u001b[0;32mfor\u001b[0m \u001b[0mencoding\u001b[0m \u001b[0;32min\u001b[0m \u001b[0mdetector\u001b[0m\u001b[0;34m.\u001b[0m\u001b[0mencodings\u001b[0m\u001b[0;34m:\u001b[0m\u001b[0;34m\u001b[0m\u001b[0m\n\u001b[0m\u001b[1;32m    119\u001b[0m             \u001b[0;32myield\u001b[0m \u001b[0;34m(\u001b[0m\u001b[0mdetector\u001b[0m\u001b[0;34m.\u001b[0m\u001b[0mmarkup\u001b[0m\u001b[0;34m,\u001b[0m \u001b[0mencoding\u001b[0m\u001b[0;34m,\u001b[0m \u001b[0mdocument_declared_encoding\u001b[0m\u001b[0;34m,\u001b[0m \u001b[0;32mFalse\u001b[0m\u001b[0;34m)\u001b[0m\u001b[0;34m\u001b[0m\u001b[0m\n\u001b[1;32m    120\u001b[0m \u001b[0;34m\u001b[0m\u001b[0m\n",
      "\u001b[0;32m~/anaconda3/lib/python3.6/site-packages/bs4/dammit.py\u001b[0m in \u001b[0;36mencodings\u001b[0;34m(self)\u001b[0m\n\u001b[1;32m    255\u001b[0m         \u001b[0;32mif\u001b[0m \u001b[0mself\u001b[0m\u001b[0;34m.\u001b[0m\u001b[0mdeclared_encoding\u001b[0m \u001b[0;32mis\u001b[0m \u001b[0;32mNone\u001b[0m\u001b[0;34m:\u001b[0m\u001b[0;34m\u001b[0m\u001b[0m\n\u001b[1;32m    256\u001b[0m             self.declared_encoding = self.find_declared_encoding(\n\u001b[0;32m--> 257\u001b[0;31m                 self.markup, self.is_html)\n\u001b[0m\u001b[1;32m    258\u001b[0m         \u001b[0;32mif\u001b[0m \u001b[0mself\u001b[0m\u001b[0;34m.\u001b[0m\u001b[0m_usable\u001b[0m\u001b[0;34m(\u001b[0m\u001b[0mself\u001b[0m\u001b[0;34m.\u001b[0m\u001b[0mdeclared_encoding\u001b[0m\u001b[0;34m,\u001b[0m \u001b[0mtried\u001b[0m\u001b[0;34m)\u001b[0m\u001b[0;34m:\u001b[0m\u001b[0;34m\u001b[0m\u001b[0m\n\u001b[1;32m    259\u001b[0m             \u001b[0;32myield\u001b[0m \u001b[0mself\u001b[0m\u001b[0;34m.\u001b[0m\u001b[0mdeclared_encoding\u001b[0m\u001b[0;34m\u001b[0m\u001b[0m\n",
      "\u001b[0;32m~/anaconda3/lib/python3.6/site-packages/bs4/dammit.py\u001b[0m in \u001b[0;36mfind_declared_encoding\u001b[0;34m(cls, markup, is_html, search_entire_document)\u001b[0m\n\u001b[1;32m    313\u001b[0m \u001b[0;34m\u001b[0m\u001b[0m\n\u001b[1;32m    314\u001b[0m         \u001b[0mdeclared_encoding\u001b[0m \u001b[0;34m=\u001b[0m \u001b[0;32mNone\u001b[0m\u001b[0;34m\u001b[0m\u001b[0m\n\u001b[0;32m--> 315\u001b[0;31m         \u001b[0mdeclared_encoding_match\u001b[0m \u001b[0;34m=\u001b[0m \u001b[0mxml_encoding_re\u001b[0m\u001b[0;34m.\u001b[0m\u001b[0msearch\u001b[0m\u001b[0;34m(\u001b[0m\u001b[0mmarkup\u001b[0m\u001b[0;34m,\u001b[0m \u001b[0mendpos\u001b[0m\u001b[0;34m=\u001b[0m\u001b[0mxml_endpos\u001b[0m\u001b[0;34m)\u001b[0m\u001b[0;34m\u001b[0m\u001b[0m\n\u001b[0m\u001b[1;32m    316\u001b[0m         \u001b[0;32mif\u001b[0m \u001b[0;32mnot\u001b[0m \u001b[0mdeclared_encoding_match\u001b[0m \u001b[0;32mand\u001b[0m \u001b[0mis_html\u001b[0m\u001b[0;34m:\u001b[0m\u001b[0;34m\u001b[0m\u001b[0m\n\u001b[1;32m    317\u001b[0m             \u001b[0mdeclared_encoding_match\u001b[0m \u001b[0;34m=\u001b[0m \u001b[0mhtml_meta_re\u001b[0m\u001b[0;34m.\u001b[0m\u001b[0msearch\u001b[0m\u001b[0;34m(\u001b[0m\u001b[0mmarkup\u001b[0m\u001b[0;34m,\u001b[0m \u001b[0mendpos\u001b[0m\u001b[0;34m=\u001b[0m\u001b[0mhtml_endpos\u001b[0m\u001b[0;34m)\u001b[0m\u001b[0;34m\u001b[0m\u001b[0m\n",
      "\u001b[0;31mTypeError\u001b[0m: expected string or bytes-like object"
     ]
    }
   ],
   "source": [
    "# Get html text from a url\n",
    "url_text = requests.get(url).text\n",
    "#put into beautiful soup\n",
    "soup = bs(url_text,'lxml')\n",
    "#print(soup)\n",
    "test = soup.find_all(\"strong\")\n",
    "\n",
    "test2 = test.find('strong', text='Inactive:')\n",
    "print(test)"
   ]
  },
  {
   "cell_type": "code",
   "execution_count": 7,
   "metadata": {},
   "outputs": [
    {
     "name": "stdout",
     "output_type": "stream",
     "text": [
      "                  Starters Team  Home  Status Pos  FPTS         MP FG FGA 3P  \\\n",
      "0             Jakob Poeltl  SAS     0       1   C  45.9  28.266667  7   7  0   \n",
      "1           Keldon Johnson  SAS     0       1   C  22.9  27.583333  8  11  2   \n",
      "2            DeMar DeRozan  SAS     0       1  SF  40.2  25.700000  7  11  0   \n",
      "3          Dejounte Murray  SAS     0       1  SF  33.7  24.500000  7  13  2   \n",
      "4            Derrick White  SAS     0       1  SG  25.4  16.966667  3   5  2   \n",
      "6              Patty Mills  SAS     0       0  PG  19.6  20.750000  4   6  3   \n",
      "7             Drew Eubanks  SAS     0       0  PG  14.4  19.733333  1   2  0   \n",
      "8            Lonnie Walker  SAS     0       0  PG   9.2  19.300000  4  10  1   \n",
      "9                 Rudy Gay  SAS     0       0  PG  14.6  18.116667  2  10  1   \n",
      "10           Devin Vassell  SAS     0       0  PG  10.2  12.266667  1   5  1   \n",
      "11  Quinndary Weatherspoon  SAS     0       0  PG   2.2  10.100000  1   3  0   \n",
      "12              Trey Lyles  SAS     0       0   C   1.2   8.800000  0   0  0   \n",
      "13        Keita Bates-Diop  SAS     0       0   C   4.2   7.916667  0   2  0   \n",
      "\n",
      "    ...  DRB%  TRB%  AST% STL% BLK%  TOV%  USG% ORtg DRtg    BPM  \n",
      "0   ...  35.4  23.4   5.1  5.0  8.8  21.2  14.5  142   94   12.1  \n",
      "1   ...   7.3   4.0   5.6  0.0  0.0   7.8  20.3  149  118    4.2  \n",
      "2   ...  15.6  12.9  46.8  0.0  0.0  11.5  29.5  152  116   11.5  \n",
      "3   ...  24.5  13.5  31.3  1.9  0.0   0.0  23.1  136  109    6.5  \n",
      "4   ...  11.8   6.5  31.0  2.8  4.9   0.0  17.3  176  107   14.4  \n",
      "6   ...  14.5   8.0  25.9  0.0  0.0  23.7  17.7  142  116    6.3  \n",
      "7   ...  20.3  19.6   0.0  0.0  4.2  34.7  12.7  113  111   -8.6  \n",
      "8   ...   5.2   2.9   0.0  0.0  0.0  21.6  31.3   77  118  -18.5  \n",
      "9   ...  16.6   9.1  13.3  2.6  0.0   0.0  24.0   67  110  -12.4  \n",
      "10  ...   0.0   4.5  19.0  0.0  6.7   0.0  17.7   97  115   -2.0  \n",
      "11  ...   9.9   5.5   0.0  0.0  0.0  25.0  17.2   49  115  -26.3  \n",
      "12  ...  11.4   6.3   0.0  0.0  0.0   NaN   0.0    0  117   -5.3  \n",
      "13  ...  12.6   7.0   0.0  0.0  0.0   0.0  20.7   92  117  -11.9  \n",
      "\n",
      "[13 rows x 38 columns]\n",
      "            Starters Team  Home  Status  Pos  FPTS         MP FG FGA 3P  ...  \\\n",
      "0      Kevin Huerter  ATL     1       1   SG  14.4  23.766667  2   8  1  ...   \n",
      "1         Trae Young  ATL     1       1   PG  31.7  23.400000  8  15  2  ...   \n",
      "2       John Collins  ATL     1       1   PF  14.7  23.083333  3  11  1  ...   \n",
      "3       Clint Capela  ATL     1       1    C  35.2  21.333333  7  11  0  ...   \n",
      "4        Cam Reddish  ATL     1       1   SF  10.5  21.033333  2   8  0  ...   \n",
      "6       Solomon Hill  ATL     1       0   SG  12.1  21.050000  0   4  0  ...   \n",
      "7         Tony Snell  ATL     1       0   SG   3.2  17.333333  0   3  0  ...   \n",
      "8        Skylar Mays  ATL     1       0   SF  28.7  16.850000  7  10  4  ...   \n",
      "9   Danilo Gallinari  ATL     1       0    C   8.9  16.600000  1   4  0  ...   \n",
      "10    Onyeka Okongwu  ATL     1       0   PG  17.6  15.966667  1   1  0  ...   \n",
      "11   Brandon Goodwin  ATL     1       0   PF  20.1  15.866667  4   8  3  ...   \n",
      "12    Bruno Fernando  ATL     1       0   PF  17.7  14.083333  2   3  0  ...   \n",
      "13     Nathan Knight  ATL     1       0  NaN  11.4   9.633333  2   4  0  ...   \n",
      "\n",
      "    DRB%  TRB%  AST% STL% BLK%  TOV%  USG% ORtg DRtg    BPM  \n",
      "0    5.2   4.6  23.1  2.0  0.0  20.0  17.3   75  126  -10.1  \n",
      "1    5.3   2.4  27.2  2.0  0.0   9.7  36.1  126  126    8.4  \n",
      "2   10.7  14.3   6.3  0.0  0.0  20.2  26.6   80  129  -15.6  \n",
      "3   46.2  28.4   0.0  2.2  8.3   8.3  23.2  120  112    3.2  \n",
      "4    0.0   0.0   6.6  0.0  4.2   0.0  20.0   69  128  -14.2  \n",
      "6   17.5   7.9   5.8  4.5  0.0  17.0  11.5   47  118  -10.1  \n",
      "7    7.1   3.2  14.2  0.0  0.0  25.0   9.5   29  130  -14.6  \n",
      "8    7.3   3.3  44.8  2.8  0.0   0.0  26.6  182  124   27.7  \n",
      "9   14.8   6.6   8.0  2.8  0.0   0.0   9.9   66  122   -8.4  \n",
      "10  23.1  10.4  16.7  5.9  0.0  26.6   9.7  169  114    7.4  \n",
      "11  15.5  10.4  33.7  0.0  0.0   9.3  27.9  130  128    6.1  \n",
      "12  52.4  23.5  10.6  0.0  6.3   0.0  13.9  134  118    1.7  \n",
      "13  12.8  11.5   0.0  4.9  0.0   0.0  20.9  136  118    3.3  \n",
      "\n",
      "[13 rows x 38 columns]\n"
     ]
    },
    {
     "name": "stderr",
     "output_type": "stream",
     "text": [
      "/Users/jacobplata/anaconda3/lib/python3.6/site-packages/ipykernel_launcher.py:31: SettingWithCopyWarning: \n",
      "A value is trying to be set on a copy of a slice from a DataFrame\n",
      "\n",
      "See the caveats in the documentation: https://pandas.pydata.org/pandas-docs/stable/user_guide/indexing.html#returning-a-view-versus-a-copy\n",
      "/Users/jacobplata/anaconda3/lib/python3.6/site-packages/ipykernel_launcher.py:45: SettingWithCopyWarning: \n",
      "A value is trying to be set on a copy of a slice from a DataFrame\n",
      "\n",
      "See the caveats in the documentation: https://pandas.pydata.org/pandas-docs/stable/user_guide/indexing.html#returning-a-view-versus-a-copy\n",
      "/Users/jacobplata/anaconda3/lib/python3.6/site-packages/ipykernel_launcher.py:47: SettingWithCopyWarning: \n",
      "A value is trying to be set on a copy of a slice from a DataFrame\n",
      "\n",
      "See the caveats in the documentation: https://pandas.pydata.org/pandas-docs/stable/user_guide/indexing.html#returning-a-view-versus-a-copy\n",
      "/Users/jacobplata/anaconda3/lib/python3.6/site-packages/ipykernel_launcher.py:31: SettingWithCopyWarning: \n",
      "A value is trying to be set on a copy of a slice from a DataFrame\n",
      "\n",
      "See the caveats in the documentation: https://pandas.pydata.org/pandas-docs/stable/user_guide/indexing.html#returning-a-view-versus-a-copy\n",
      "/Users/jacobplata/anaconda3/lib/python3.6/site-packages/ipykernel_launcher.py:47: SettingWithCopyWarning: \n",
      "A value is trying to be set on a copy of a slice from a DataFrame\n",
      "\n",
      "See the caveats in the documentation: https://pandas.pydata.org/pandas-docs/stable/user_guide/indexing.html#returning-a-view-versus-a-copy\n",
      "/Users/jacobplata/anaconda3/lib/python3.6/site-packages/ipykernel_launcher.py:45: SettingWithCopyWarning: \n",
      "A value is trying to be set on a copy of a slice from a DataFrame\n",
      "\n",
      "See the caveats in the documentation: https://pandas.pydata.org/pandas-docs/stable/user_guide/indexing.html#returning-a-view-versus-a-copy\n"
     ]
    }
   ],
   "source": [
    "for home_away in range(2):\n",
    "        df = df_list[home_away]\n",
    "\n",
    "        # Deletes unwanted rows and joins 2 sub-dataframes into a single dataframe\n",
    "        rows = list(df.index.values)\n",
    "        last_row = rows[len(rows) - 1]\n",
    "        df = df.drop([5, last_row])\n",
    "\n",
    "        # Creates and adds a \"Starter\" variable (1 if starter, 0 if reserve)\n",
    "        starter = [0] * df.shape[0]\n",
    "        for i in range(5):\n",
    "            starter[i] = 1\n",
    "        df.insert(1, 'Status', starter)\n",
    "\n",
    "        # Creates and adds a \"Team\" (Team ID) and \"Home\" (Home team or Away team)\n",
    "        home = [home_away] * df.shape[0]\n",
    "        team = [ids[home_away]] * df.shape[0]\n",
    "        df.insert(1, 'Team', team)\n",
    "        df.insert(2, 'Home', home)\n",
    "\n",
    "        # Changes \"MP\" time format from string '00:00' to float 0.0.\n",
    "        # Did not play will appear as a 2 in staatus column. Did not dress willappear as 3\n",
    "        rows = list(df.index.values)\n",
    "        for i in rows:\n",
    "            if df['MP'][i] == 'Did Not Play':\n",
    "                df['Status'][i] = 2\n",
    "            elif df['MP'][i] == 'Did Not Dress':\n",
    "                df['Status'][i] = 3\n",
    "            else:\n",
    "                col_index = df['MP'][i].find(':')\n",
    "                df['MP'][i] = int(df['MP'][i][:col_index]) + int(df['MP'][i][(col_index+1):])/60\n",
    "                \n",
    "        # Replace Did not play and did not dress with zeros\n",
    "        df = df.replace('Did Not Play', 0)\n",
    "        df = df.replace('Did Not Dress',0)\n",
    "\n",
    "        # Changes values in the \"+/-\" column from strings to integers\n",
    "        rows = list(df.index.values)\n",
    "        for i in rows:\n",
    "            if df['+/-'][i] == '0':\n",
    "                df['+/-'][i] = 0\n",
    "            elif df['+/-'][i] == 0:\n",
    "                df['+/-'][i] = 0\n",
    "            elif df['+/-'][i][0] == '+':\n",
    "                df['+/-'][i] = int(df['+/-'][i][1:])\n",
    "            else:\n",
    "                df['+/-'][i] = -1 * int(df['+/-'][i][1:])\n",
    "\n",
    "        # Drops any column that relates to efficiency stats\n",
    "        df.drop(['FG%', '3P%', 'FT%'], inplace=True, axis=1)\n",
    "        \n",
    "        # Add  inactive Players\n",
    "        \n",
    "        "
   ]
  },
  {
   "cell_type": "code",
   "execution_count": null,
   "metadata": {
    "collapsed": true
   },
   "outputs": [],
   "source": [
    "# Add fantasy points column\n",
    "        fp = (df[\"PTS\"].astype(float) + (1.2*df[\"TRB\"].astype(float)) + (1.5*df[\"AST\"].astype(float)) + (3*df[\"STL\"].astype(float)) + (3*df[\"BLK\"].astype(float)) - df[\"TOV\"].astype(float))\n",
    "        df.insert(4, 'FPTS', fp)\n",
    "        \n",
    "        # Add Positions\n",
    "        dfnames = pd.read_csv(r'/Users/jacobplata/Desktop/pp/NBA_Name-Pos.csv')\n",
    "        dfs = [df, dfnames] \n",
    "        df_final = reduce(lambda left,right: pd.merge(left,right,on='Starters'), dfs)  \n",
    "        pos = df_final[\"Pos\"]\n",
    "        df.insert(4, 'Pos', pos)\n",
    "    \n",
    "        print(df)\n",
    "\n",
    "        boxscore_dir = r'/Users/jacobplata/Desktop/pp'\n",
    "        dates = os.listdir(boxscore_dir)\n",
    "        if date not in dates:\n",
    "            os.mkdir(boxscore_dir + '/' + date)\n",
    "\n",
    "        games = os.listdir(boxscore_dir + '/' + date)\n",
    "        game_file = away_id + '_' + home_id + '.csv'\n",
    "        if game_file not in games or home_away == 1:\n",
    "            with open(boxscore_dir + '/' + date + '/' + away_id + '_' + home_id + '.csv', 'a', encoding=\"utf-8\") as f:\n",
    "                if home_away == 0:\n",
    "                    df.to_csv(f, header=True, index=False)\n",
    "                else:\n",
    "                    df.to_csv(f, header=False, index=False)"
   ]
  },
  {
   "cell_type": "code",
   "execution_count": null,
   "metadata": {
    "collapsed": true
   },
   "outputs": [],
   "source": []
  },
  {
   "cell_type": "code",
   "execution_count": null,
   "metadata": {
    "collapsed": true
   },
   "outputs": [],
   "source": []
  },
  {
   "cell_type": "code",
   "execution_count": null,
   "metadata": {
    "collapsed": true
   },
   "outputs": [],
   "source": []
  },
  {
   "cell_type": "code",
   "execution_count": null,
   "metadata": {
    "collapsed": true
   },
   "outputs": [],
   "source": []
  },
  {
   "cell_type": "code",
   "execution_count": null,
   "metadata": {
    "collapsed": true
   },
   "outputs": [],
   "source": []
  }
 ],
 "metadata": {
  "kernelspec": {
   "display_name": "Python 3",
   "language": "python",
   "name": "python3"
  },
  "language_info": {
   "codemirror_mode": {
    "name": "ipython",
    "version": 3
   },
   "file_extension": ".py",
   "mimetype": "text/x-python",
   "name": "python",
   "nbconvert_exporter": "python",
   "pygments_lexer": "ipython3",
   "version": "3.6.2"
  }
 },
 "nbformat": 4,
 "nbformat_minor": 2
}
